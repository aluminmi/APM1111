{
 "cells": [
  {
   "cell_type": "code",
   "execution_count": 39,
   "id": "bf7a70a8-55b1-41ef-9031-9bc0d47c3921",
   "metadata": {},
   "outputs": [],
   "source": [
    "import numpy as np\n",
    "import pandas as pd\n",
    "data = {\n",
    "    \"Normal\": [67, 70, 63, 65, 68, 60, 70, 69, 61, 70, 65, 71, 70, 65, 68, 71, 63, 62, 68, 63, 67, 64, 65, 63, 64],\n",
    "    \"Skewed-right\": [69, 62, 43, 59, 59, 65, 60, 55, 46, 67, 57, 61, 41, 34, 36, 37, 45, 38, 30, 28, 66, 26, 23, 25, 34],\n",
    "    \"Skewed-left\": [31, 24, 29, 30, 24, 38, 35, 33, 36, 40, 29, 35, 29, 41, 42, 30, 31, 26, 33, 31, 34, 30, 22, 25, 28],\n",
    "    \"Uniform\": [40, 55, 29, 30, 30, 36, 50, 29, 44, 29, 41, 39, 44, 41, 43, 41, 35, 42, 35, 34, 32, 41, 34, 40, 37]\n",
    "}\n",
    "\n",
    "def raw_moment(data, order):\n",
    "    return np.mean([x**order for x in data])\n",
    "    \n",
    "def central_moment(data, order):\n",
    "    mean = np.mean(data)\n",
    "    return np.mean([(x-mean) ** order for x in data])\n",
    "\n",
    "def moment_num(data, num, order):\n",
    "    return np.mean([(x-num) ** order for x in data])\n",
    "    \n",
    "raw_result = {key: [raw_moment(values, i) for i in range(1,5)] for key, values in data.items()}\n",
    "central_result = {key: [central_moment(values, i) for i in range(1, 5)] for key, values in data.items()}\n",
    "moments_75 = {key: [moment_num(values, 75, i) for i in range(1, 5)] for key, values in data.items()}\n",
    "\n",
    "def verify_rel(moment_data, central_data):\n",
    "    m1_pr, m2_pr, m3_pr, m4_pr = moment_data\n",
    "    m2_calc = m2_pr - m1_pr**2\n",
    "    m3_calc = m3_pr - 3 * m1_pr * m2_pr + 2 * m1_pr**3\n",
    "    m4_calc = m4_pr - 4 * m1_pr * m3_pr + 6 * m1_pr**2 * m2_pr - 3 * m1_pr**4\n",
    "    \n",
    "    return {\n",
    "        \"m2_calculated\": m2_calc,\n",
    "        \"m2_central\": central_data[1],\n",
    "        \"m3_calculated\": m3_calc,\n",
    "        \"m3_central\": central_data[2],\n",
    "        \"m4_calculated\": m4_calc,\n",
    "        \"m4_central\": central_data[3]\n",
    "    }\n",
    "verify_results = {key: verify_rel(moments_75[key], central_result[key]) for key in data.keys()}\n"
   ]
  },
  {
   "cell_type": "code",
   "execution_count": 36,
   "id": "e7eaf836-b6aa-4d7a-88b3-87b19ecee0bd",
   "metadata": {},
   "outputs": [],
   "source": [
    "df_moments_raw = pd.DataFrame(raw_result, index = \n",
    "                         [\"1st Moment (Mean)\",\n",
    "                          \"2nd Moment (Variance)\",\n",
    "                          \"3rd Moment (Skewness)\", \n",
    "                          \"4th Moment (Kurtosis)\"])\n",
    "df_moments_mean = pd.DataFrame(central_result, index = \n",
    "                         [\"1st Moment (Mean)\",\n",
    "                          \"2nd Moment (Variance)\",\n",
    "                          \"3rd Moment (Skewness)\", \n",
    "                          \"4th Moment (Kurtosis)\"]).round(2)\n",
    "df_moments_75 = pd.DataFrame(moments_75, index = \n",
    "                         [\"1st Moment (75)\",\n",
    "                          \"2nd Moment (75)\",\n",
    "                          \"3rd Moment (75)\", \n",
    "                          \"4th Moment (75)\"]).round(2)\n",
    "df_verify = pd.DataFrame(verify_results).T"
   ]
  },
  {
   "cell_type": "markdown",
   "id": "3a7dd650-54ed-427b-9c27-9d873968cd9a",
   "metadata": {},
   "source": [
    "## Raw Moments Table"
   ]
  },
  {
   "cell_type": "code",
   "execution_count": 34,
   "id": "a7827e64-dffd-426b-afba-8ff311166d21",
   "metadata": {},
   "outputs": [
    {
     "data": {
      "text/html": [
       "<div>\n",
       "<style scoped>\n",
       "    .dataframe tbody tr th:only-of-type {\n",
       "        vertical-align: middle;\n",
       "    }\n",
       "\n",
       "    .dataframe tbody tr th {\n",
       "        vertical-align: top;\n",
       "    }\n",
       "\n",
       "    .dataframe thead th {\n",
       "        text-align: right;\n",
       "    }\n",
       "</style>\n",
       "<table border=\"1\" class=\"dataframe\">\n",
       "  <thead>\n",
       "    <tr style=\"text-align: right;\">\n",
       "      <th></th>\n",
       "      <th>Normal</th>\n",
       "      <th>Skewed-right</th>\n",
       "      <th>Skewed-left</th>\n",
       "      <th>Uniform</th>\n",
       "    </tr>\n",
       "  </thead>\n",
       "  <tbody>\n",
       "    <tr>\n",
       "      <th>1st Moment (Mean)</th>\n",
       "      <td>66.08</td>\n",
       "      <td>46.64</td>\n",
       "      <td>31.44</td>\n",
       "      <td>38.04</td>\n",
       "    </tr>\n",
       "    <tr>\n",
       "      <th>2nd Moment (Variance)</th>\n",
       "      <td>4377.04</td>\n",
       "      <td>2393.52</td>\n",
       "      <td>1015.84</td>\n",
       "      <td>1489.16</td>\n",
       "    </tr>\n",
       "    <tr>\n",
       "      <th>3rd Moment (Skewness)</th>\n",
       "      <td>290617.52</td>\n",
       "      <td>131881.04</td>\n",
       "      <td>33698.16</td>\n",
       "      <td>59997.72</td>\n",
       "    </tr>\n",
       "    <tr>\n",
       "      <th>4th Moment (Kurtosis)</th>\n",
       "      <td>19341112.24</td>\n",
       "      <td>7634138.16</td>\n",
       "      <td>1146164.32</td>\n",
       "      <td>2487276.68</td>\n",
       "    </tr>\n",
       "  </tbody>\n",
       "</table>\n",
       "</div>"
      ],
      "text/plain": [
       "                            Normal  Skewed-right  Skewed-left     Uniform\n",
       "1st Moment (Mean)            66.08         46.64        31.44       38.04\n",
       "2nd Moment (Variance)      4377.04       2393.52      1015.84     1489.16\n",
       "3rd Moment (Skewness)    290617.52     131881.04     33698.16    59997.72\n",
       "4th Moment (Kurtosis)  19341112.24    7634138.16   1146164.32  2487276.68"
      ]
     },
     "metadata": {},
     "output_type": "display_data"
    }
   ],
   "source": [
    "display(df_moments_raw)"
   ]
  },
  {
   "cell_type": "markdown",
   "id": "3a880ed3-effb-4f31-ac45-0eedb42d33ee",
   "metadata": {},
   "source": [
    "From this table, we can conclude that:\n",
    "\n",
    "- The mean from the normal dataset is relatively high, which means that the values cluster around a higher range. The fourth moment shows that the normal distribution has significantly higher values than the others, indicating heavier tails. "
   ]
  },
  {
   "cell_type": "markdown",
   "id": "0dfbe3cb-9d0b-4250-81c1-dd1688c21fd1",
   "metadata": {},
   "source": [
    "## Central Moments Table"
   ]
  },
  {
   "cell_type": "code",
   "execution_count": 37,
   "id": "9ec6fe12-4d80-4734-8568-2deb28101ed8",
   "metadata": {
    "scrolled": true
   },
   "outputs": [
    {
     "data": {
      "text/html": [
       "<div>\n",
       "<style scoped>\n",
       "    .dataframe tbody tr th:only-of-type {\n",
       "        vertical-align: middle;\n",
       "    }\n",
       "\n",
       "    .dataframe tbody tr th {\n",
       "        vertical-align: top;\n",
       "    }\n",
       "\n",
       "    .dataframe thead th {\n",
       "        text-align: right;\n",
       "    }\n",
       "</style>\n",
       "<table border=\"1\" class=\"dataframe\">\n",
       "  <thead>\n",
       "    <tr style=\"text-align: right;\">\n",
       "      <th></th>\n",
       "      <th>Normal</th>\n",
       "      <th>Skewed-right</th>\n",
       "      <th>Skewed-left</th>\n",
       "      <th>Uniform</th>\n",
       "    </tr>\n",
       "  </thead>\n",
       "  <tbody>\n",
       "    <tr>\n",
       "      <th>1st Moment (Mean)</th>\n",
       "      <td>0.00</td>\n",
       "      <td>-0.00</td>\n",
       "      <td>-0.00</td>\n",
       "      <td>0.00</td>\n",
       "    </tr>\n",
       "    <tr>\n",
       "      <th>2nd Moment (Variance)</th>\n",
       "      <td>10.47</td>\n",
       "      <td>218.23</td>\n",
       "      <td>27.37</td>\n",
       "      <td>42.12</td>\n",
       "    </tr>\n",
       "    <tr>\n",
       "      <th>3rd Moment (Skewness)</th>\n",
       "      <td>-1.47</td>\n",
       "      <td>-109.26</td>\n",
       "      <td>39.35</td>\n",
       "      <td>145.71</td>\n",
       "    </tr>\n",
       "    <tr>\n",
       "      <th>4th Moment (Kurtosis)</th>\n",
       "      <td>197.75</td>\n",
       "      <td>74351.79</td>\n",
       "      <td>1829.68</td>\n",
       "      <td>5494.24</td>\n",
       "    </tr>\n",
       "  </tbody>\n",
       "</table>\n",
       "</div>"
      ],
      "text/plain": [
       "                       Normal  Skewed-right  Skewed-left  Uniform\n",
       "1st Moment (Mean)        0.00         -0.00        -0.00     0.00\n",
       "2nd Moment (Variance)   10.47        218.23        27.37    42.12\n",
       "3rd Moment (Skewness)   -1.47       -109.26        39.35   145.71\n",
       "4th Moment (Kurtosis)  197.75      74351.79      1829.68  5494.24"
      ]
     },
     "metadata": {},
     "output_type": "display_data"
    }
   ],
   "source": [
    "display(df_moments_mean)"
   ]
  },
  {
   "cell_type": "markdown",
   "id": "fad91731-cd71-4636-965f-18a1c2f8615e",
   "metadata": {},
   "source": [
    "From this table, we can conclude that:\n",
    "\n",
    "- The variance for the normal distribution is the lowest, indicating that its values are more clustered around the mean. The skewed right has the highest variance,  which means the data has a wider spread. The normal distribution is well-behaved with low variance and skewness, while the skewed-right has a long left tail. The skewed left has a significant right tail, and the uniform distribution is balanced.  "
   ]
  },
  {
   "cell_type": "markdown",
   "id": "14ef7a1a-390e-4aa5-9182-a359c076d155",
   "metadata": {},
   "source": [
    "## Moments about 75 table"
   ]
  },
  {
   "cell_type": "code",
   "execution_count": 38,
   "id": "3124a53e-0f0d-419e-9b02-39b67c4f9c36",
   "metadata": {},
   "outputs": [
    {
     "data": {
      "text/html": [
       "<div>\n",
       "<style scoped>\n",
       "    .dataframe tbody tr th:only-of-type {\n",
       "        vertical-align: middle;\n",
       "    }\n",
       "\n",
       "    .dataframe tbody tr th {\n",
       "        vertical-align: top;\n",
       "    }\n",
       "\n",
       "    .dataframe thead th {\n",
       "        text-align: right;\n",
       "    }\n",
       "</style>\n",
       "<table border=\"1\" class=\"dataframe\">\n",
       "  <thead>\n",
       "    <tr style=\"text-align: right;\">\n",
       "      <th></th>\n",
       "      <th>Normal</th>\n",
       "      <th>Skewed-right</th>\n",
       "      <th>Skewed-left</th>\n",
       "      <th>Uniform</th>\n",
       "    </tr>\n",
       "  </thead>\n",
       "  <tbody>\n",
       "    <tr>\n",
       "      <th>1st Moment (75)</th>\n",
       "      <td>-8.92</td>\n",
       "      <td>-28.36</td>\n",
       "      <td>-43.56</td>\n",
       "      <td>-36.96</td>\n",
       "    </tr>\n",
       "    <tr>\n",
       "      <th>2nd Moment (75)</th>\n",
       "      <td>90.04</td>\n",
       "      <td>1022.52</td>\n",
       "      <td>1924.84</td>\n",
       "      <td>1408.16</td>\n",
       "    </tr>\n",
       "    <tr>\n",
       "      <th>3rd Moment (75)</th>\n",
       "      <td>-991.48</td>\n",
       "      <td>-41485.96</td>\n",
       "      <td>-86190.84</td>\n",
       "      <td>-55013.28</td>\n",
       "    </tr>\n",
       "    <tr>\n",
       "      <th>4th Moment (75)</th>\n",
       "      <td>11581.24</td>\n",
       "      <td>1786751.16</td>\n",
       "      <td>3906941.32</td>\n",
       "      <td>2195235.68</td>\n",
       "    </tr>\n",
       "  </tbody>\n",
       "</table>\n",
       "</div>"
      ],
      "text/plain": [
       "                   Normal  Skewed-right  Skewed-left     Uniform\n",
       "1st Moment (75)     -8.92        -28.36       -43.56      -36.96\n",
       "2nd Moment (75)     90.04       1022.52      1924.84     1408.16\n",
       "3rd Moment (75)   -991.48     -41485.96    -86190.84   -55013.28\n",
       "4th Moment (75)  11581.24    1786751.16   3906941.32  2195235.68"
      ]
     },
     "metadata": {},
     "output_type": "display_data"
    }
   ],
   "source": [
    "display(df_moments_75)"
   ]
  },
  {
   "cell_type": "markdown",
   "id": "68eba5ac-ed8c-464b-bdae-c06a97ed18ba",
   "metadata": {},
   "source": [
    "The normal distribution is closer to 75, while the skewed-left has the largest negative deviation, suggesting that most values are below 75.\n",
    "\n",
    "Skewed left has the highest variance, indicating a wide spread of values around 75, while the normal distribution has the lowest, meaning that it is more concentrated around 75.\n",
    "\n",
    "The skewed left has the most significant negative skewness, indicating that it has a large concentration of values below 75. \n",
    "\n",
    "The skewed left and skewed right has a very high kurtosis"
   ]
  },
  {
   "cell_type": "markdown",
   "id": "179d74fa-656c-447f-9476-ecbff3ba7241",
   "metadata": {},
   "source": [
    "## Verification Results Table"
   ]
  },
  {
   "cell_type": "code",
   "execution_count": 17,
   "id": "2823ba96-9cb6-46db-8952-3947f759d1ab",
   "metadata": {
    "scrolled": true
   },
   "outputs": [
    {
     "data": {
      "text/html": [
       "<div>\n",
       "<style scoped>\n",
       "    .dataframe tbody tr th:only-of-type {\n",
       "        vertical-align: middle;\n",
       "    }\n",
       "\n",
       "    .dataframe tbody tr th {\n",
       "        vertical-align: top;\n",
       "    }\n",
       "\n",
       "    .dataframe thead th {\n",
       "        text-align: right;\n",
       "    }\n",
       "</style>\n",
       "<table border=\"1\" class=\"dataframe\">\n",
       "  <thead>\n",
       "    <tr style=\"text-align: right;\">\n",
       "      <th></th>\n",
       "      <th>m2_calculated</th>\n",
       "      <th>m2_central</th>\n",
       "      <th>m3_calculated</th>\n",
       "      <th>m3_central</th>\n",
       "      <th>m4_calculated</th>\n",
       "      <th>m4_central</th>\n",
       "    </tr>\n",
       "  </thead>\n",
       "  <tbody>\n",
       "    <tr>\n",
       "      <th>Normal</th>\n",
       "      <td>10.4736</td>\n",
       "      <td>10.4736</td>\n",
       "      <td>-1.474176</td>\n",
       "      <td>-1.474176</td>\n",
       "      <td>197.749509</td>\n",
       "      <td>197.749509</td>\n",
       "    </tr>\n",
       "    <tr>\n",
       "      <th>Skewed-right</th>\n",
       "      <td>218.2304</td>\n",
       "      <td>218.2304</td>\n",
       "      <td>-109.264512</td>\n",
       "      <td>-109.264512</td>\n",
       "      <td>74351.786348</td>\n",
       "      <td>74351.786348</td>\n",
       "    </tr>\n",
       "    <tr>\n",
       "      <th>Skewed-left</th>\n",
       "      <td>27.3664</td>\n",
       "      <td>27.3664</td>\n",
       "      <td>39.351168</td>\n",
       "      <td>39.351168</td>\n",
       "      <td>1829.675653</td>\n",
       "      <td>1829.675653</td>\n",
       "    </tr>\n",
       "    <tr>\n",
       "      <th>Uniform</th>\n",
       "      <td>42.1184</td>\n",
       "      <td>42.1184</td>\n",
       "      <td>145.705728</td>\n",
       "      <td>145.705728</td>\n",
       "      <td>5494.242744</td>\n",
       "      <td>5494.242744</td>\n",
       "    </tr>\n",
       "  </tbody>\n",
       "</table>\n",
       "</div>"
      ],
      "text/plain": [
       "              m2_calculated  m2_central  m3_calculated  m3_central  \\\n",
       "Normal              10.4736     10.4736      -1.474176   -1.474176   \n",
       "Skewed-right       218.2304    218.2304    -109.264512 -109.264512   \n",
       "Skewed-left         27.3664     27.3664      39.351168   39.351168   \n",
       "Uniform             42.1184     42.1184     145.705728  145.705728   \n",
       "\n",
       "              m4_calculated    m4_central  \n",
       "Normal           197.749509    197.749509  \n",
       "Skewed-right   74351.786348  74351.786348  \n",
       "Skewed-left     1829.675653   1829.675653  \n",
       "Uniform         5494.242744   5494.242744  "
      ]
     },
     "metadata": {},
     "output_type": "display_data"
    }
   ],
   "source": [
    "display(df_verify)"
   ]
  },
  {
   "cell_type": "markdown",
   "id": "be54f1f0-2892-4f8a-8e91-d310c42381e0",
   "metadata": {},
   "source": [
    "Since all of the calculated values of the second, third, and fourth moments are consistent, it verifies the relationship between them. "
   ]
  }
 ],
 "metadata": {
  "kernelspec": {
   "display_name": "Python 3 (ipykernel)",
   "language": "python",
   "name": "python3"
  },
  "language_info": {
   "codemirror_mode": {
    "name": "ipython",
    "version": 3
   },
   "file_extension": ".py",
   "mimetype": "text/x-python",
   "name": "python",
   "nbconvert_exporter": "python",
   "pygments_lexer": "ipython3",
   "version": "3.11.7"
  }
 },
 "nbformat": 4,
 "nbformat_minor": 5
}

{
 "cells": [
  {
   "cell_type": "markdown",
   "id": "48976690-8cfb-426c-a6f9-3d722703006c",
   "metadata": {},
   "source": [
    "### Exercise 8.18"
   ]
  },
  {
   "cell_type": "markdown",
   "id": "b81deef2-6595-4dd8-b3b5-3b8e293b4b96",
   "metadata": {},
   "source": [
    "Midwestern University has 1/3 of its students taking 9 credit hours, 1/3 taking 12 credit hours, \n",
    "and 1/3 taking 15 credit hours\n",
    "\n",
    "List all samples of size n = 2 that are possible (with replacement) from the population.\n",
    "plot the sampling distribution of the mean to show that μ\u0001 = μ¼\u0006, and show thatσx^\u0001 = σ^2 / 22..."
   ]
  },
  {
   "cell_type": "code",
   "execution_count": 20,
   "id": "0bf54762-d29b-4620-80ec-34e685f698a6",
   "metadata": {
    "scrolled": true
   },
   "outputs": [
    {
     "data": {
      "image/png": "[encoded data removed]",
      "text/plain": [
       "<Figure size 640x480 with 1 Axes>"
      ]
     },
     "metadata": {},
     "output_type": "display_data"
    },
    {
     "data": {
      "text/html": [
       "<div>\n",
       "<style scoped>\n",
       "    .dataframe tbody tr th:only-of-type {\n",
       "        vertical-align: middle;\n",
       "    }\n",
       "\n",
       "    .dataframe tbody tr th {\n",
       "        vertical-align: top;\n",
       "    }\n",
       "\n",
       "    .dataframe thead th {\n",
       "        text-align: right;\n",
       "    }\n",
       "</style>\n",
       "<table border=\"1\" class=\"dataframe\">\n",
       "  <thead>\n",
       "    <tr style=\"text-align: right;\">\n",
       "      <th></th>\n",
       "      <th>Population Mean:</th>\n",
       "      <th>Sampling Distribution of the Means:</th>\n",
       "      <th>Population Variance:</th>\n",
       "      <th>Sampling Distribution Variance:</th>\n",
       "      <th>Theoretical Variance:</th>\n",
       "    </tr>\n",
       "  </thead>\n",
       "  <tbody>\n",
       "    <tr>\n",
       "      <th>0</th>\n",
       "      <td>12.0</td>\n",
       "      <td>12.0</td>\n",
       "      <td>6.0</td>\n",
       "      <td>3.0</td>\n",
       "      <td>3.0</td>\n",
       "    </tr>\n",
       "  </tbody>\n",
       "</table>\n",
       "</div>"
      ],
      "text/plain": [
       "   Population Mean:   Sampling Distribution of the Means:   \\\n",
       "0               12.0                                  12.0   \n",
       "\n",
       "   Population Variance:   Sampling Distribution Variance:   \\\n",
       "0                    6.0                               3.0   \n",
       "\n",
       "   Theoretical Variance:   \n",
       "0                     3.0  "
      ]
     },
     "execution_count": 20,
     "metadata": {},
     "output_type": "execute_result"
    }
   ],
   "source": [
    "import numpy as np\n",
    "import matplotlib.pyplot as plt\n",
    "import pandas as pd\n",
    "from collections import Counter\n",
    "\n",
    "population = [9, 12, 15]\n",
    "\n",
    "samples = [(x, y) for x in population for y in population]\n",
    "sample_means = [(x + y) / 2 for x, y in samples]\n",
    "mean_counts = Counter(sample_means)\n",
    "total_samples = len(samples)\n",
    "mean_prob = {mean: count / total_samples for mean, count in mean_counts.items()}\n",
    "\n",
    "means = list(mean_prob.keys())\n",
    "prob = list(mean_prob.values())\n",
    "\n",
    "plt.bar(means, prob, width=1.5, edgecolor='black')\n",
    "plt.xlabel('Sample Mean')\n",
    "plt.ylabel('Probability Density')\n",
    "plt.title('Sampling Distribution of the Means')\n",
    "plt.show()\n",
    "\n",
    "mu_xbar = sum(mean * prob for mean, prob in mean_prob.items())\n",
    "mu = np.mean(population)\n",
    "sigma_xbar_squared = sum(((mean - mu_xbar) ** 2) * prob for mean, prob in mean_prob.items())\n",
    "sigma_squared = np.var(population, ddof=0)\n",
    "sigma_xbar_squared_theoretical = sigma_squared / 2\n",
    "\n",
    "data = {\n",
    "    'Population Mean: ': [mu],\n",
    "    'Sampling Distribution of the Means: ': [mu_xbar], \n",
    "    'Population Variance: ': [sigma_squared], \n",
    "    'Sampling Distribution Variance: ': [sigma_xbar_squared],\n",
    "    'Theoretical Variance: ': [sigma_xbar_squared_theoretical]\n",
    "    \n",
    "}\n",
    "\n",
    "df = pd.DataFrame(data)\n",
    "df"
   ]
  },
  {
   "cell_type": "markdown",
   "id": "55d367f3-1605-4409-ba5a-7816b5e36582",
   "metadata": {},
   "source": [
    "### Exercise 8.21"
   ]
  },
  {
   "cell_type": "markdown",
   "id": "7ecd6391-4f98-47ff-9080-fb5a259a9391",
   "metadata": {},
   "source": [
    "A population consists of the four numbers 3, 7, 11, and 15. Consider all possible samples of size 2 that can be drawn with replacement from this population. Find (a) the population mean, (b) the population standard deviation, (c) the mean of the sampling distribution of means, and (d ) the standard deviation of the sampling\r\n",
    "distribution of means. Verify parts (c) and (d ) directly from (a) and (b) by using suitable formulas."
   ]
  },
  {
   "cell_type": "code",
   "execution_count": 32,
   "id": "c32a7e64-f63d-4a4a-b7ca-7046073e7e22",
   "metadata": {},
   "outputs": [
    {
     "name": "stdout",
     "output_type": "stream",
     "text": [
      "   Sample Pairs  Sample Means\n",
      "0        (3, 3)           3.0\n",
      "1        (3, 7)           5.0\n",
      "2       (3, 11)           7.0\n",
      "3       (3, 15)           9.0\n",
      "4        (7, 3)           5.0\n",
      "5        (7, 7)           7.0\n",
      "6       (7, 11)           9.0\n",
      "7       (7, 15)          11.0\n",
      "8       (11, 3)           7.0\n",
      "9       (11, 7)           9.0\n",
      "10     (11, 11)          11.0\n",
      "11     (11, 15)          13.0\n",
      "12      (15, 3)           9.0\n",
      "13      (15, 7)          11.0\n",
      "14     (15, 11)          13.0\n",
      "15     (15, 15)          15.0\n"
     ]
    },
    {
     "data": {
      "text/html": [
       "<div>\n",
       "<style scoped>\n",
       "    .dataframe tbody tr th:only-of-type {\n",
       "        vertical-align: middle;\n",
       "    }\n",
       "\n",
       "    .dataframe tbody tr th {\n",
       "        vertical-align: top;\n",
       "    }\n",
       "\n",
       "    .dataframe thead th {\n",
       "        text-align: right;\n",
       "    }\n",
       "</style>\n",
       "<table border=\"1\" class=\"dataframe\">\n",
       "  <thead>\n",
       "    <tr style=\"text-align: right;\">\n",
       "      <th></th>\n",
       "      <th>Population mean:</th>\n",
       "      <th>Population standard deviation:</th>\n",
       "      <th>Sampling Distribution of the Means:</th>\n",
       "      <th>Standard deviation of the sampling distribution of the means:</th>\n",
       "      <th>Theoretical Standard Error:</th>\n",
       "    </tr>\n",
       "  </thead>\n",
       "  <tbody>\n",
       "    <tr>\n",
       "      <th>0</th>\n",
       "      <td>9.0</td>\n",
       "      <td>4.472136</td>\n",
       "      <td>9.0</td>\n",
       "      <td>3.162278</td>\n",
       "      <td>3.162278</td>\n",
       "    </tr>\n",
       "  </tbody>\n",
       "</table>\n",
       "</div>"
      ],
      "text/plain": [
       "   Population mean:  Population standard deviation:  \\\n",
       "0               9.0                        4.472136   \n",
       "\n",
       "   Sampling Distribution of the Means:  \\\n",
       "0                                  9.0   \n",
       "\n",
       "   Standard deviation of the sampling distribution of the means:  \\\n",
       "0                                           3.162278               \n",
       "\n",
       "   Theoretical Standard Error:  \n",
       "0                     3.162278  "
      ]
     },
     "execution_count": 32,
     "metadata": {},
     "output_type": "execute_result"
    }
   ],
   "source": [
    "import numpy as np\n",
    "import pandas as pd\n",
    "from itertools import product\n",
    "\n",
    "population = np.array([3, 7, 11, 15])\n",
    "\n",
    "population_mean = np.mean(population)\n",
    "population_std = np.std(population, ddof=0)\n",
    "samples = list(product(population, repeat = 2))\n",
    "sample_means = np.array([np.mean(sample) for sample in samples])\n",
    "sampling_mean = np.mean(sample_means)\n",
    "sampling_std = np.std(sample_means, ddof=0)\n",
    "\n",
    "theoretical_se = population_std / np.sqrt(2)\n",
    "\n",
    "sample_means_df = pd.DataFrame({'Sample Pairs': [str(sample) for sample in samples],\n",
    "                               'Sample Means': sample_means})\n",
    "data = {\n",
    "    'Population mean:': [population_mean],\n",
    "    'Population standard deviation:': [population_std],\n",
    "    'Sampling Distribution of the Means:': [sampling_mean],\n",
    "    'Standard deviation of the sampling distribution of the means:': [sampling_std],\n",
    "    'Theoretical Standard Error:': [theoretical_se],\n",
    "    \n",
    "}\n",
    "np.set_printoptions(precision=2, suppress=True)\n",
    "\n",
    "df = pd.DataFrame(data)\n",
    "print(sample_means_df)\n",
    "df"
   ]
  },
  {
   "cell_type": "markdown",
   "id": "c892c5de-1b37-4979-adea-04e14b1d04d8",
   "metadata": {},
   "source": [
    "### Exercise 8.34"
   ]
  },
  {
   "cell_type": "markdown",
   "id": "1015c2d1-43ee-4517-8fe0-ec1af7ec898a",
   "metadata": {},
   "source": [
    "Find the probability that of the next 200 children born, (a) less than 40% will be boys, (b) between 43% and \n",
    "57% will be girls, and (c) more than 54% will be boys. Assume equal probabilities for the births of boys an \r\n",
    "girls."
   ]
  },
  {
   "cell_type": "code",
   "execution_count": 44,
   "id": "31c71a1f-4d8f-40ab-9bc2-18289f702293",
   "metadata": {},
   "outputs": [
    {
     "name": "stdout",
     "output_type": "stream",
     "text": [
      "Probability that less than 40% will be boys: 0.0018174739762649662\n",
      "Probability that between 43% and 57% will be girls: 0.9599628083866005\n",
      "Probability that more than 54% will be boys: 0.8853767013701419\n"
     ]
    }
   ],
   "source": [
    "import scipy.stats as stats\n",
    "\n",
    "n = 200\n",
    "p_boy = 0.5\n",
    "p_girl = 0.5\n",
    "\n",
    "prob_a = stats.binom.cdf(79, n, p_boy)\n",
    "prob_b = stats.binom.cdf(114, n, p_girl) - stats.binom.cdf(85, n, p_girl)\n",
    "prob_c = stats.binom.cdf(108, n, p_boy)\n",
    "\n",
    "print(f\"Probability that less than 40% will be boys: {prob_a}\")\n",
    "print(f\"Probability that between 43% and 57% will be girls: {prob_b}\")\n",
    "print(f\"Probability that more than 54% will be boys: {prob_c}\")"
   ]
  },
  {
   "cell_type": "code",
   "execution_count": null,
   "id": "6198dd5b-0cf1-4104-a95f-dadd1a8feaf4",
   "metadata": {},
   "outputs": [],
   "source": []
  }
 ],
 "metadata": {
  "kernelspec": {
   "display_name": "Python 3 (ipykernel)",
   "language": "python",
   "name": "python3"
  },
  "language_info": {
   "codemirror_mode": {
    "name": "ipython",
    "version": 3
   },
   "file_extension": ".py",
   "mimetype": "text/x-python",
   "name": "python",
   "nbconvert_exporter": "python",
   "pygments_lexer": "ipython3",
   "version": "3.11.7"
  }
 },
 "nbformat": 4,
 "nbformat_minor": 5
}

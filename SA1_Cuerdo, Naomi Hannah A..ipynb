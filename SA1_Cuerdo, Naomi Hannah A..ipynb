{
 "cells": [
  {
   "cell_type": "code",
   "execution_count": 17,
   "id": "fd067653-be65-44fc-8838-499c258bb236",
   "metadata": {},
   "outputs": [],
   "source": [
    "from scipy import stats\n",
    "import numpy as np\n",
    "import pandas as pd\n",
    "\n",
    "male_df = [12,7,7,10,8,10,11,9,9,13,\n",
    "           4,9,12,11,9,9,7,12,10,13,\n",
    "           11,10,6,12,11,9,10,12,8,9,\n",
    "           13,10,9,7,10,7,10,8,11,10,\n",
    "           11,7,15,8,9,9,11,13,10,13\n",
    "          ]\n",
    "female_df = [11,10,11,10,11,12,12,10,9,9,\n",
    "             9,10,8,7,12,9,7,8,9,8,\n",
    "             7,7,9,9,12,10,9,13,9,9,\n",
    "             10,9,6,12,8,11,8,8,11,12,\n",
    "             9,10,11,14,12,7,11,10,9,11]\n",
    "\n",
    "male_data_df = pd.Series(male_df)\n",
    "female_data_df = pd.Series(female_df)\n",
    "n = male_data_df.count()"
   ]
  },
  {
   "cell_type": "markdown",
   "id": "3f5b71c2-6eb7-4c8a-afa2-c4380e67d7de",
   "metadata": {},
   "source": [
    "### 1. Formulate and present the rationale for a hypothesis test that the researcher could use to compare the mean time spent on cell phones by male and female college students per week.\n",
    "\n",
    "<b>Null Hypothesis (H<sub>0</sub>)</b>: The mean time spent talking on cell phones by males is equal to the mean time spent by females.\n",
    "\n",
    "This is written as: H<sub>0</sub>: $\\mu_1$ =  $\\mu_2$\n",
    "\n",
    "<b>Alternative Hypothesis(H<sub>1</sub>)</b>: The mean time spent talking on cell phones by males is not equal to the mean time spent by females.\n",
    "\n",
    "This is written as: H<sub>1</sub>: $\\mu_1$ ≠  $\\mu_2$\n",
    "\n",
    "#### Rationale\n",
    "We are to test if there is a significant difference in the average time spent talking on cell phones between male and female students. This study will be using a two-tailed independent samples t-test, as we try to compare the means of two independent groups (males and females), assuming they do not have a direction of differences. "
   ]
  },
  {
   "cell_type": "markdown",
   "id": "19c8760a-1372-4bdf-9e31-2bf3d14331e1",
   "metadata": {},
   "source": [
    "### 2. Analyze the data to provide the hypothesis testing conclusion. What is the p-value for your test? What is your recommendation for the researcher?"
   ]
  },
  {
   "cell_type": "code",
   "execution_count": 18,
   "id": "db2375d9-290d-4f44-b2ad-89f004e16150",
   "metadata": {},
   "outputs": [
    {
     "name": "stdout",
     "output_type": "stream",
     "text": [
      "Equal Variances.\n",
      "\n"
     ]
    }
   ],
   "source": [
    "levene_stat, levene_p_val = stats.levene(male_df, female_df)\n",
    "if levene_p_val > 0.05:\n",
    "    print(\"Equal Variances.\\n\")\n",
    "else:\n",
    "    print(\"Unequal Variances. \\n\")"
   ]
  },
  {
   "cell_type": "markdown",
   "id": "8f953ab5-a69b-48c7-84d6-5fb36767495a",
   "metadata": {},
   "source": [
    "Since the variances are equal, the t-test will have equal outcomes. We then let equal_var = True."
   ]
  },
  {
   "cell_type": "code",
   "execution_count": 19,
   "id": "b359e527-5a10-4d15-b7f2-17d669def557",
   "metadata": {},
   "outputs": [
    {
     "name": "stdout",
     "output_type": "stream",
     "text": [
      "The t-value is 0.30394907866566184 and the p_value is 0.7618111039906375\n"
     ]
    }
   ],
   "source": [
    "t_stat, p_val = stats.ttest_ind(male_df, female_df, equal_var=True)\n",
    "print(f\"The t-value is {t_stat} and the p_value is {p_val}\")"
   ]
  },
  {
   "cell_type": "markdown",
   "id": "ceed1dc2-e83c-4793-bd13-4734c05b8f30",
   "metadata": {},
   "source": [
    "Since the calculated p-value is greater than 0.05, the null hypothesis will not be rejected."
   ]
  },
  {
   "cell_type": "code",
   "execution_count": 20,
   "id": "a00093f2-c36b-4c65-b525-eb822d16076e",
   "metadata": {},
   "outputs": [
    {
     "data": {
      "image/png": "[encoded data removed]",
      "text/plain": [
       "<Figure size 800x600 with 1 Axes>"
      ]
     },
     "metadata": {},
     "output_type": "display_data"
    }
   ],
   "source": [
    "data = [male_df, female_df]\n",
    "labels = ['Males', 'Females']\n",
    "plt.figure(figsize=(8,6))\n",
    "box = plt.boxplot(data, labels=labels, patch_artist=True)\n",
    "colors = ['lightblue', 'lightcoral']\n",
    "for patch, color in zip(box['boxes'], colors):\n",
    "    patch.set_facecolor(color)\n",
    "    \n",
    "plt.title('Time on Cellphones by Gender')\n",
    "plt.ylabel('Hours per week')\n",
    "plt.grid(axis='y')\n",
    "plt.show()"
   ]
  },
  {
   "cell_type": "markdown",
   "id": "9aa4726b-e85a-46e2-8028-f98c3635a2dd",
   "metadata": {},
   "source": [
    "#### Outliers\n",
    "From the boxplot, the male data seems to have an outlier of 4 and 15. With this, let us check if this affects the result of the p-value:"
   ]
  },
  {
   "cell_type": "code",
   "execution_count": 21,
   "id": "7662acb8-0e71-4489-a478-f633dd0d7337",
   "metadata": {},
   "outputs": [
    {
     "name": "stdout",
     "output_type": "stream",
     "text": [
      "T-statistic (without outliers): 0.36074614928825416\n",
      "P-value (without outliers): 0.7190818116406612\n",
      "T-statistic (with outliers): 0.30394907866566184\n",
      "P-value (with outliers): 0.7618111039906375\n"
     ]
    }
   ],
   "source": [
    "data_m_no_outliers = [x for x in male_df if x != 4 and x != 15]\n",
    "\n",
    "t_stat_no_outliers, p_val_no_outliers = stats.ttest_ind(data_m_no_outliers, female_df)\n",
    "\n",
    "print(\"T-statistic (without outliers):\", t_stat_no_outliers)\n",
    "print(\"P-value (without outliers):\", p_val_no_outliers)\n",
    "\n",
    "print(\"T-statistic (with outliers):\", t_stat)\n",
    "print(\"P-value (with outliers):\", p_val)"
   ]
  },
  {
   "cell_type": "markdown",
   "id": "cb1334b5-0c7c-4c77-bb9e-d375e8dcebc4",
   "metadata": {},
   "source": [
    "Since the difference is small, it does not change the result of the data. Furthermore, these outliers can provide a more accurate result as they are part of the original dataset."
   ]
  },
  {
   "cell_type": "markdown",
   "id": "131a04e7-05fc-48b7-b34b-27c6d4148aa9",
   "metadata": {},
   "source": [
    "##### Recommendation to the researchers\n",
    "\n",
    "Based on the given data, the researchers should conclude that there are no significant difference in phone usage between males and females. However, we are to test if the mean of both males and females are equal."
   ]
  },
  {
   "cell_type": "markdown",
   "id": "5b40dd3d-6bbd-4fbc-bd5e-508083250a25",
   "metadata": {},
   "source": [
    " ### 3. Provide descriptive statistical summaries of the data for each gender category."
   ]
  },
  {
   "cell_type": "markdown",
   "id": "f4aff41d-503c-4cb6-ad78-db070b5ce05e",
   "metadata": {},
   "source": [
    "#### Descriptive Summary for Males"
   ]
  },
  {
   "cell_type": "code",
   "execution_count": 22,
   "id": "ab1053f1-641e-4544-a8e4-b57853b2df52",
   "metadata": {},
   "outputs": [
    {
     "data": {
      "text/html": [
       "<div>\n",
       "<style scoped>\n",
       "    .dataframe tbody tr th:only-of-type {\n",
       "        vertical-align: middle;\n",
       "    }\n",
       "\n",
       "    .dataframe tbody tr th {\n",
       "        vertical-align: top;\n",
       "    }\n",
       "\n",
       "    .dataframe thead th {\n",
       "        text-align: right;\n",
       "    }\n",
       "</style>\n",
       "<table border=\"1\" class=\"dataframe\">\n",
       "  <thead>\n",
       "    <tr style=\"text-align: right;\">\n",
       "      <th></th>\n",
       "      <th>Measures_Male</th>\n",
       "      <th>Value</th>\n",
       "    </tr>\n",
       "  </thead>\n",
       "  <tbody>\n",
       "    <tr>\n",
       "      <th>0</th>\n",
       "      <td>Valid</td>\n",
       "      <td>50.000</td>\n",
       "    </tr>\n",
       "    <tr>\n",
       "      <th>1</th>\n",
       "      <td>Mode</td>\n",
       "      <td>9.000</td>\n",
       "    </tr>\n",
       "    <tr>\n",
       "      <th>2</th>\n",
       "      <td>Median</td>\n",
       "      <td>10.000</td>\n",
       "    </tr>\n",
       "    <tr>\n",
       "      <th>3</th>\n",
       "      <td>Mean</td>\n",
       "      <td>9.820</td>\n",
       "    </tr>\n",
       "    <tr>\n",
       "      <th>4</th>\n",
       "      <td>Std. deviation</td>\n",
       "      <td>2.154</td>\n",
       "    </tr>\n",
       "    <tr>\n",
       "      <th>5</th>\n",
       "      <td>Variance</td>\n",
       "      <td>4.640</td>\n",
       "    </tr>\n",
       "    <tr>\n",
       "      <th>6</th>\n",
       "      <td>Skewness</td>\n",
       "      <td>-0.111</td>\n",
       "    </tr>\n",
       "    <tr>\n",
       "      <th>7</th>\n",
       "      <td>Std. Error of Skewness</td>\n",
       "      <td>0.337</td>\n",
       "    </tr>\n",
       "    <tr>\n",
       "      <th>8</th>\n",
       "      <td>Kurtosis</td>\n",
       "      <td>0.042</td>\n",
       "    </tr>\n",
       "    <tr>\n",
       "      <th>9</th>\n",
       "      <td>Std. Error of Kurtosis</td>\n",
       "      <td>0.693</td>\n",
       "    </tr>\n",
       "    <tr>\n",
       "      <th>10</th>\n",
       "      <td>Minimum</td>\n",
       "      <td>4.000</td>\n",
       "    </tr>\n",
       "    <tr>\n",
       "      <th>11</th>\n",
       "      <td>Maximum</td>\n",
       "      <td>15.000</td>\n",
       "    </tr>\n",
       "    <tr>\n",
       "      <th>12</th>\n",
       "      <td>Q1 (25th percentile)</td>\n",
       "      <td>9.000</td>\n",
       "    </tr>\n",
       "    <tr>\n",
       "      <th>13</th>\n",
       "      <td>Q2 (50th percentile)</td>\n",
       "      <td>10.000</td>\n",
       "    </tr>\n",
       "    <tr>\n",
       "      <th>14</th>\n",
       "      <td>Q3 (75th percentile)</td>\n",
       "      <td>11.000</td>\n",
       "    </tr>\n",
       "    <tr>\n",
       "      <th>15</th>\n",
       "      <td>D9 (90th percentile)</td>\n",
       "      <td>13.000</td>\n",
       "    </tr>\n",
       "    <tr>\n",
       "      <th>16</th>\n",
       "      <td>P95 (95th percentile)</td>\n",
       "      <td>13.000</td>\n",
       "    </tr>\n",
       "  </tbody>\n",
       "</table>\n",
       "</div>"
      ],
      "text/plain": [
       "             Measures_Male   Value\n",
       "0                    Valid  50.000\n",
       "1                     Mode   9.000\n",
       "2                   Median  10.000\n",
       "3                     Mean   9.820\n",
       "4           Std. deviation   2.154\n",
       "5                 Variance   4.640\n",
       "6                 Skewness  -0.111\n",
       "7   Std. Error of Skewness   0.337\n",
       "8                 Kurtosis   0.042\n",
       "9   Std. Error of Kurtosis   0.693\n",
       "10                 Minimum   4.000\n",
       "11                 Maximum  15.000\n",
       "12    Q1 (25th percentile)   9.000\n",
       "13    Q2 (50th percentile)  10.000\n",
       "14    Q3 (75th percentile)  11.000\n",
       "15    D9 (90th percentile)  13.000\n",
       "16   P95 (95th percentile)  13.000"
      ]
     },
     "metadata": {},
     "output_type": "display_data"
    }
   ],
   "source": [
    "data_male_np = pd.DataFrame(male_df, columns = ['Value'])\n",
    "\n",
    "valid = len(data_male_np)\n",
    "mean = data_male_np['Value'].mean()\n",
    "std_dv = data_male_np['Value'].std(ddof=1)\n",
    "var = data_male_np['Value'].var(ddof=1)\n",
    "std_error_skewness = np.sqrt(((6)*(n)*(n-1))/((n-2)*(n+1)*(n+3)))\n",
    "skewness = stats.skew(data_male_np['Value'])\n",
    "kurtosis = stats.kurtosis(data_male_np['Value'])\n",
    "std_error_kurtosis = np.sqrt(24 / n)\n",
    "min_val = data_male_np['Value'].min()\n",
    "max_val = data_male_np['Value'].max()\n",
    "mode_val = stats.mode(data_male_np['Value'], keepdims=True)[0][0]\n",
    "median = data_male_np['Value'].median()\n",
    "\n",
    "Q1 = np.percentile(data_male_np['Value'], 25)\n",
    "Q2 = np.percentile(data_male_np['Value'], 50)\n",
    "Q3 = np.percentile(data_male_np['Value'], 75)\n",
    "D9 = np.percentile(data_male_np['Value'], 90)\n",
    "P95 = np.percentile(data_male_np['Value'], 95)\n",
    "\n",
    "dp_summary_male = {\n",
    "    'Valid': valid,\n",
    "    'Mode': mode_val,\n",
    "    'Median': median,\n",
    "    'Mean': mean,\n",
    "    'Std. deviation': std_dv,\n",
    "    'Variance': var,\n",
    "    'Skewness': skewness,\n",
    "    'Std. Error of Skewness': std_error_skewness,\n",
    "    'Kurtosis': kurtosis, \n",
    "    'Std. Error of Kurtosis': std_error_kurtosis,\n",
    "    'Minimum': min_val, \n",
    "    'Maximum': max_val, \n",
    "    'Q1 (25th percentile)': Q1,\n",
    "    'Q2 (50th percentile)': Q2,\n",
    "    'Q3 (75th percentile)': Q3,\n",
    "    'D9 (90th percentile)': D9,\n",
    "    'P95 (95th percentile)': P95\n",
    "}\n",
    "\n",
    "summary_df = pd.DataFrame(dp_summary_male.items(), columns=['Measures_Male', 'Value'])\n",
    "summary_df = summary_df.round(3)\n",
    "display(summary_df)"
   ]
  },
  {
   "cell_type": "markdown",
   "id": "b6aedf5f-8c04-4000-99ee-4323d4d995ec",
   "metadata": {},
   "source": [
    "#### Descriptive Summary for Females"
   ]
  },
  {
   "cell_type": "code",
   "execution_count": 23,
   "id": "5adff8f5-088a-4044-bef4-84179eb1c2f0",
   "metadata": {},
   "outputs": [
    {
     "data": {
      "text/html": [
       "<div>\n",
       "<style scoped>\n",
       "    .dataframe tbody tr th:only-of-type {\n",
       "        vertical-align: middle;\n",
       "    }\n",
       "\n",
       "    .dataframe tbody tr th {\n",
       "        vertical-align: top;\n",
       "    }\n",
       "\n",
       "    .dataframe thead th {\n",
       "        text-align: right;\n",
       "    }\n",
       "</style>\n",
       "<table border=\"1\" class=\"dataframe\">\n",
       "  <thead>\n",
       "    <tr style=\"text-align: right;\">\n",
       "      <th></th>\n",
       "      <th>Measures_Female</th>\n",
       "      <th>Value</th>\n",
       "    </tr>\n",
       "  </thead>\n",
       "  <tbody>\n",
       "    <tr>\n",
       "      <th>0</th>\n",
       "      <td>Valid</td>\n",
       "      <td>50.000</td>\n",
       "    </tr>\n",
       "    <tr>\n",
       "      <th>1</th>\n",
       "      <td>Mode</td>\n",
       "      <td>9.000</td>\n",
       "    </tr>\n",
       "    <tr>\n",
       "      <th>2</th>\n",
       "      <td>Median</td>\n",
       "      <td>9.500</td>\n",
       "    </tr>\n",
       "    <tr>\n",
       "      <th>3</th>\n",
       "      <td>Mean</td>\n",
       "      <td>9.700</td>\n",
       "    </tr>\n",
       "    <tr>\n",
       "      <th>4</th>\n",
       "      <td>Std. deviation</td>\n",
       "      <td>1.776</td>\n",
       "    </tr>\n",
       "    <tr>\n",
       "      <th>5</th>\n",
       "      <td>Variance</td>\n",
       "      <td>3.153</td>\n",
       "    </tr>\n",
       "    <tr>\n",
       "      <th>6</th>\n",
       "      <td>Skewness</td>\n",
       "      <td>0.130</td>\n",
       "    </tr>\n",
       "    <tr>\n",
       "      <th>7</th>\n",
       "      <td>Std. Error of Skewness</td>\n",
       "      <td>0.337</td>\n",
       "    </tr>\n",
       "    <tr>\n",
       "      <th>8</th>\n",
       "      <td>Kurtosis</td>\n",
       "      <td>-0.516</td>\n",
       "    </tr>\n",
       "    <tr>\n",
       "      <th>9</th>\n",
       "      <td>Std. Error of Kurtosis</td>\n",
       "      <td>0.693</td>\n",
       "    </tr>\n",
       "    <tr>\n",
       "      <th>10</th>\n",
       "      <td>Minimum</td>\n",
       "      <td>6.000</td>\n",
       "    </tr>\n",
       "    <tr>\n",
       "      <th>11</th>\n",
       "      <td>Maximum</td>\n",
       "      <td>14.000</td>\n",
       "    </tr>\n",
       "    <tr>\n",
       "      <th>12</th>\n",
       "      <td>Q1 (25th percentile)</td>\n",
       "      <td>9.000</td>\n",
       "    </tr>\n",
       "    <tr>\n",
       "      <th>13</th>\n",
       "      <td>Q2 (50th percentile)</td>\n",
       "      <td>9.500</td>\n",
       "    </tr>\n",
       "    <tr>\n",
       "      <th>14</th>\n",
       "      <td>Q3 (75th percentile)</td>\n",
       "      <td>11.000</td>\n",
       "    </tr>\n",
       "    <tr>\n",
       "      <th>15</th>\n",
       "      <td>D9 (90th percentile)</td>\n",
       "      <td>12.000</td>\n",
       "    </tr>\n",
       "    <tr>\n",
       "      <th>16</th>\n",
       "      <td>P95 (95th percentile)</td>\n",
       "      <td>12.000</td>\n",
       "    </tr>\n",
       "  </tbody>\n",
       "</table>\n",
       "</div>"
      ],
      "text/plain": [
       "           Measures_Female   Value\n",
       "0                    Valid  50.000\n",
       "1                     Mode   9.000\n",
       "2                   Median   9.500\n",
       "3                     Mean   9.700\n",
       "4           Std. deviation   1.776\n",
       "5                 Variance   3.153\n",
       "6                 Skewness   0.130\n",
       "7   Std. Error of Skewness   0.337\n",
       "8                 Kurtosis  -0.516\n",
       "9   Std. Error of Kurtosis   0.693\n",
       "10                 Minimum   6.000\n",
       "11                 Maximum  14.000\n",
       "12    Q1 (25th percentile)   9.000\n",
       "13    Q2 (50th percentile)   9.500\n",
       "14    Q3 (75th percentile)  11.000\n",
       "15    D9 (90th percentile)  12.000\n",
       "16   P95 (95th percentile)  12.000"
      ]
     },
     "metadata": {},
     "output_type": "display_data"
    }
   ],
   "source": [
    "data_female_np = pd.DataFrame(female_df, columns = ['Value'])\n",
    "\n",
    "valid = len(data_female_np)\n",
    "mean = data_female_np['Value'].mean()\n",
    "std_dv = data_female_np['Value'].std(ddof=1)\n",
    "var = data_female_np['Value'].var(ddof=1)\n",
    "std_error_skewness = np.sqrt(((6)*(n)*(n-1))/((n-2)*(n+1)*(n+3)))\n",
    "skewness = stats.skew(data_female_np['Value'])\n",
    "kurtosis = stats.kurtosis(data_female_np['Value'])\n",
    "std_error_kurtosis = np.sqrt(24 / n)\n",
    "min_val = data_female_np['Value'].min()\n",
    "max_val = data_female_np['Value'].max()\n",
    "mode_val = stats.mode(data_female_np['Value'], keepdims=True)[0][0]\n",
    "median = data_female_np['Value'].median()\n",
    "\n",
    "Q1 = np.percentile(data_female_np['Value'], 25)\n",
    "Q2 = np.percentile(data_female_np['Value'], 50)\n",
    "Q3 = np.percentile(data_female_np['Value'], 75)\n",
    "D9 = np.percentile(data_female_np['Value'], 90)\n",
    "P95 = np.percentile(data_female_np['Value'], 95)\n",
    "\n",
    "dp_summary_female = {\n",
    "    'Valid': valid,\n",
    "    'Mode': mode_val,\n",
    "    'Median': median,\n",
    "    'Mean': mean,\n",
    "    'Std. deviation': std_dv,\n",
    "    'Variance': var,\n",
    "    'Skewness': skewness,\n",
    "    'Std. Error of Skewness': std_error_skewness,\n",
    "    'Kurtosis': kurtosis, \n",
    "    'Std. Error of Kurtosis': std_error_kurtosis,\n",
    "    'Minimum': min_val, \n",
    "    'Maximum': max_val, \n",
    "    'Q1 (25th percentile)': Q1,\n",
    "    'Q2 (50th percentile)': Q2,\n",
    "    'Q3 (75th percentile)': Q3,\n",
    "    'D9 (90th percentile)': D9,\n",
    "    'P95 (95th percentile)': P95\n",
    "}\n",
    "\n",
    "summary_df = pd.DataFrame(dp_summary_female.items(), columns=['Measures_Female', 'Value'])\n",
    "summary_df = summary_df.round(3)\n",
    "display(summary_df)"
   ]
  },
  {
   "cell_type": "markdown",
   "id": "feeb1bb0-77c4-4859-bd08-f17e0c617840",
   "metadata": {},
   "source": [
    "### 4. What is the 95% confidence interval for the population mean of each gender category, and what is the 95% confidence interval for the difference between the means of the two populations?"
   ]
  },
  {
   "cell_type": "code",
   "execution_count": 28,
   "id": "0dc852d0-ea8b-4187-80a8-355a9f734b77",
   "metadata": {},
   "outputs": [
    {
     "name": "stdout",
     "output_type": "stream",
     "text": [
      "The 95% confidence interval for males is (9.207794314064703, 10.432205685935298).\n",
      "The 95% confidence interval for males is (9.19535558679254, 10.20464441320746).\n",
      "The 95% confidence interval for the difference between the two populations is (-0.6733862777191243, 0.9133862777191263).\n"
     ]
    }
   ],
   "source": [
    "n_males = len(male_df)\n",
    "n_females = len(female_df)\n",
    "mean_males = np.mean(male_df)\n",
    "mean_females = np.mean(female_df)\n",
    "std_males = np.std(male_df, ddof=1)  \n",
    "std_females = np.std(female_df, ddof=1)\n",
    "mean_diff = mean_males - mean_females\n",
    "pooled_se = np.sqrt((std_males**2/n_males) + (std_females**2/n_females))\n",
    "\n",
    "\n",
    "ci_males = stats.t.interval(0.95, len(male_df)-1, loc=mean_males, scale=std_males/np.sqrt(len(male_df)))\n",
    "ci_females = stats.t.interval(0.95, len(female_df)-1, loc=mean_females, scale=std_females/np.sqrt(len(female_df)))\n",
    "\n",
    "ci_diff = stats.t.interval(0.95, df=min(n_males, n_females)-1, loc=mean_diff, scale=pooled_se)\n",
    "\n",
    "print(f\"The 95% confidence interval for males is {ci_males}.\")\n",
    "print(f\"The 95% confidence interval for males is {ci_females}.\")\n",
    "print(f\"The 95% confidence interval for the difference between the two populations is {ci_diff}.\")"
   ]
  },
  {
   "cell_type": "markdown",
   "id": "c18699fd-c061-40c9-9a53-f35de1717c51",
   "metadata": {},
   "source": [
    "### 5. Do you see a need for larger sample sizes and more testing with the time spent on cell phones? Discuss.\n",
    "\n",
    "Although the current data has given us sufficient insights where we can interpret its outcome, having a larger sample size will further give credibility the phone usage between genders. With a larger sample size, it will give us a more accurate conclusion with the study."
   ]
  },
  {
   "cell_type": "markdown",
   "id": "c54f8912-ad9b-43dd-92b8-dd38bebd217f",
   "metadata": {},
   "source": [
    "### 6. Make a report including the testing of the assumptions for two independent samples t-test."
   ]
  },
  {
   "cell_type": "code",
   "execution_count": 3,
   "id": "570e4341-9ac7-4c2c-aff2-822f80fce8ef",
   "metadata": {},
   "outputs": [
    {
     "name": "stdout",
     "output_type": "stream",
     "text": [
      "Shapiro-Wilk Test for Males:\n",
      "ShapiroResult(statistic=0.9749923348426819, pvalue=0.3776538372039795)\n",
      "\n",
      "Shapiro-Wilk Test for Females:\n",
      "ShapiroResult(statistic=0.9638767838478088, pvalue=0.12919674813747406)\n",
      "\n",
      "\n",
      "Levene's Test for Homogeneity of Variances:\n",
      "LeveneResult(statistic=0.7774878203216727, pvalue=0.3800903196708094)\n",
      "\n",
      "Two Independent Samples t-test:\n"
     ]
    },
    {
     "data": {
      "text/plain": [
       "TtestResult(statistic=0.3431287248573532, pvalue=0.732244158163853, df=97.0)"
      ]
     },
     "execution_count": 3,
     "metadata": {},
     "output_type": "execute_result"
    }
   ],
   "source": [
    "import matplotlib.pyplot as plt\n",
    "import seaborn as sns\n",
    "\n",
    "shapiro_male = stats.shapiro(male_df)\n",
    "shapiro_female = stats.shapiro(female_df)\n",
    "\n",
    "print(f'Shapiro-Wilk Test for Males:\\n{shapiro_male}\\n')\n",
    "print(f'Shapiro-Wilk Test for Females:\\n{shapiro_female}\\n')\n",
    "\n",
    "print(\"\\nLevene's Test for Homogeneity of Variances:\")\n",
    "levene_test = stats.levene(male_df, female_df)\n",
    "print(levene_test)\n",
    "\n",
    "print(\"\\nTwo Independent Samples t-test:\")\n",
    "t_test = stats.ttest_ind(male_df, female_df)\n",
    "t_test"
   ]
  },
  {
   "cell_type": "markdown",
   "id": "cf1c994a-e735-4225-80be-b661da193601",
   "metadata": {},
   "source": [
    "#### Interpretation"
   ]
  },
  {
   "cell_type": "markdown",
   "id": "b3cc99f3-26cc-4e58-a3e4-8bb445134096",
   "metadata": {},
   "source": [
    "The independent t-test suggests that there is no significant difference in the hours spent on the phone between males and females. The confidence intervals further solidifies this claim, as the difference of its means is close to zero."
   ]
  },
  {
   "cell_type": "code",
   "execution_count": 26,
   "id": "a7b2f548-70b4-4983-a174-35cd64602134",
   "metadata": {},
   "outputs": [
    {
     "data": {
      "image/png": "[encoded data removed]",
      "text/plain": [
       "<Figure size 800x600 with 1 Axes>"
      ]
     },
     "metadata": {},
     "output_type": "display_data"
    }
   ],
   "source": [
    "data = [male_df, female_df]\n",
    "labels = ['Males', 'Females']\n",
    "plt.figure(figsize=(8,6))\n",
    "box = plt.boxplot(data, labels=labels, patch_artist=True)\n",
    "colors = ['lightblue', 'lightcoral']\n",
    "for patch, color in zip(box['boxes'], colors):\n",
    "    patch.set_facecolor(color)\n",
    "    \n",
    "plt.title('Time on Cellphones by Gender')\n",
    "plt.ylabel('Hours per week')\n",
    "plt.grid(axis='y')\n",
    "plt.show()"
   ]
  },
  {
   "cell_type": "code",
   "execution_count": 27,
   "id": "75a71c1f-6dbd-4c1b-b2fe-2e5e61522a9f",
   "metadata": {},
   "outputs": [
    {
     "data": {
      "image/png": "[encoded data removed]",
      "text/plain": [
       "<Figure size 1200x600 with 1 Axes>"
      ]
     },
     "metadata": {},
     "output_type": "display_data"
    }
   ],
   "source": [
    "data_male = np.array(male_df)\n",
    "data_female = np.array(female_df)\n",
    "plt.figure(figsize=(12,6))\n",
    "sns.histplot(data_male, color='blue', kde=True, stat='density', bins = 15, label=\"Male\", alpha=0.5)\n",
    "sns.histplot(data_female, color='pink', kde=True, stat='density', bins = 15, label=\"Female\", alpha=0.5)\n",
    "\n",
    "plt.title('Distribution of Hours Spent Talking on the Cellphone by Gender')\n",
    "plt.xlabel('Hours Spent on Phone')\n",
    "plt.ylabel('Density')\n",
    "plt.legend()\n",
    "plt.show()"
   ]
  },
  {
   "cell_type": "markdown",
   "id": "475d4974-f52b-4164-b567-203ed6229b9e",
   "metadata": {},
   "source": [
    "The plot shows the distribution of hours spent talking on the phone by gender, with density curves for a more accurate visual comparison. While the distributions are different, the statistical tests conducted above confirms that the differences are not significant."
   ]
  }
 ],
 "metadata": {
  "kernelspec": {
   "display_name": "Python 3 (ipykernel)",
   "language": "python",
   "name": "python3"
  },
  "language_info": {
   "codemirror_mode": {
    "name": "ipython",
    "version": 3
   },
   "file_extension": ".py",
   "mimetype": "text/x-python",
   "name": "python",
   "nbconvert_exporter": "python",
   "pygments_lexer": "ipython3",
   "version": "3.11.7"
  }
 },
 "nbformat": 4,
 "nbformat_minor": 5
}

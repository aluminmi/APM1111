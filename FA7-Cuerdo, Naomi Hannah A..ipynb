{
 "cells": [
  {
   "cell_type": "code",
   "execution_count": 1,
   "id": "ad53f188-d55d-4e6a-b776-599023f23008",
   "metadata": {},
   "outputs": [
    {
     "data": {
      "text/html": [
       "<div>\n",
       "<style scoped>\n",
       "    .dataframe tbody tr th:only-of-type {\n",
       "        vertical-align: middle;\n",
       "    }\n",
       "\n",
       "    .dataframe tbody tr th {\n",
       "        vertical-align: top;\n",
       "    }\n",
       "\n",
       "    .dataframe thead th {\n",
       "        text-align: right;\n",
       "    }\n",
       "</style>\n",
       "<table border=\"1\" class=\"dataframe\">\n",
       "  <thead>\n",
       "    <tr style=\"text-align: right;\">\n",
       "      <th></th>\n",
       "      <th>Participant</th>\n",
       "      <th>Cloak</th>\n",
       "      <th>Mischief</th>\n",
       "    </tr>\n",
       "  </thead>\n",
       "  <tbody>\n",
       "    <tr>\n",
       "      <th>0</th>\n",
       "      <td>1</td>\n",
       "      <td>0</td>\n",
       "      <td>3</td>\n",
       "    </tr>\n",
       "    <tr>\n",
       "      <th>1</th>\n",
       "      <td>2</td>\n",
       "      <td>0</td>\n",
       "      <td>1</td>\n",
       "    </tr>\n",
       "    <tr>\n",
       "      <th>2</th>\n",
       "      <td>3</td>\n",
       "      <td>0</td>\n",
       "      <td>5</td>\n",
       "    </tr>\n",
       "    <tr>\n",
       "      <th>3</th>\n",
       "      <td>4</td>\n",
       "      <td>0</td>\n",
       "      <td>4</td>\n",
       "    </tr>\n",
       "    <tr>\n",
       "      <th>4</th>\n",
       "      <td>5</td>\n",
       "      <td>0</td>\n",
       "      <td>6</td>\n",
       "    </tr>\n",
       "    <tr>\n",
       "      <th>5</th>\n",
       "      <td>6</td>\n",
       "      <td>0</td>\n",
       "      <td>4</td>\n",
       "    </tr>\n",
       "    <tr>\n",
       "      <th>6</th>\n",
       "      <td>7</td>\n",
       "      <td>0</td>\n",
       "      <td>6</td>\n",
       "    </tr>\n",
       "    <tr>\n",
       "      <th>7</th>\n",
       "      <td>8</td>\n",
       "      <td>0</td>\n",
       "      <td>2</td>\n",
       "    </tr>\n",
       "    <tr>\n",
       "      <th>8</th>\n",
       "      <td>9</td>\n",
       "      <td>0</td>\n",
       "      <td>0</td>\n",
       "    </tr>\n",
       "    <tr>\n",
       "      <th>9</th>\n",
       "      <td>10</td>\n",
       "      <td>0</td>\n",
       "      <td>5</td>\n",
       "    </tr>\n",
       "    <tr>\n",
       "      <th>10</th>\n",
       "      <td>11</td>\n",
       "      <td>0</td>\n",
       "      <td>4</td>\n",
       "    </tr>\n",
       "    <tr>\n",
       "      <th>11</th>\n",
       "      <td>12</td>\n",
       "      <td>0</td>\n",
       "      <td>5</td>\n",
       "    </tr>\n",
       "    <tr>\n",
       "      <th>12</th>\n",
       "      <td>13</td>\n",
       "      <td>1</td>\n",
       "      <td>4</td>\n",
       "    </tr>\n",
       "    <tr>\n",
       "      <th>13</th>\n",
       "      <td>14</td>\n",
       "      <td>1</td>\n",
       "      <td>3</td>\n",
       "    </tr>\n",
       "    <tr>\n",
       "      <th>14</th>\n",
       "      <td>15</td>\n",
       "      <td>1</td>\n",
       "      <td>6</td>\n",
       "    </tr>\n",
       "    <tr>\n",
       "      <th>15</th>\n",
       "      <td>16</td>\n",
       "      <td>1</td>\n",
       "      <td>6</td>\n",
       "    </tr>\n",
       "    <tr>\n",
       "      <th>16</th>\n",
       "      <td>17</td>\n",
       "      <td>1</td>\n",
       "      <td>8</td>\n",
       "    </tr>\n",
       "    <tr>\n",
       "      <th>17</th>\n",
       "      <td>18</td>\n",
       "      <td>1</td>\n",
       "      <td>5</td>\n",
       "    </tr>\n",
       "    <tr>\n",
       "      <th>18</th>\n",
       "      <td>19</td>\n",
       "      <td>1</td>\n",
       "      <td>5</td>\n",
       "    </tr>\n",
       "    <tr>\n",
       "      <th>19</th>\n",
       "      <td>20</td>\n",
       "      <td>1</td>\n",
       "      <td>4</td>\n",
       "    </tr>\n",
       "    <tr>\n",
       "      <th>20</th>\n",
       "      <td>21</td>\n",
       "      <td>1</td>\n",
       "      <td>2</td>\n",
       "    </tr>\n",
       "    <tr>\n",
       "      <th>21</th>\n",
       "      <td>22</td>\n",
       "      <td>1</td>\n",
       "      <td>5</td>\n",
       "    </tr>\n",
       "    <tr>\n",
       "      <th>22</th>\n",
       "      <td>23</td>\n",
       "      <td>1</td>\n",
       "      <td>7</td>\n",
       "    </tr>\n",
       "    <tr>\n",
       "      <th>23</th>\n",
       "      <td>24</td>\n",
       "      <td>1</td>\n",
       "      <td>5</td>\n",
       "    </tr>\n",
       "  </tbody>\n",
       "</table>\n",
       "</div>"
      ],
      "text/plain": [
       "    Participant  Cloak  Mischief\n",
       "0             1      0         3\n",
       "1             2      0         1\n",
       "2             3      0         5\n",
       "3             4      0         4\n",
       "4             5      0         6\n",
       "5             6      0         4\n",
       "6             7      0         6\n",
       "7             8      0         2\n",
       "8             9      0         0\n",
       "9            10      0         5\n",
       "10           11      0         4\n",
       "11           12      0         5\n",
       "12           13      1         4\n",
       "13           14      1         3\n",
       "14           15      1         6\n",
       "15           16      1         6\n",
       "16           17      1         8\n",
       "17           18      1         5\n",
       "18           19      1         5\n",
       "19           20      1         4\n",
       "20           21      1         2\n",
       "21           22      1         5\n",
       "22           23      1         7\n",
       "23           24      1         5"
      ]
     },
     "execution_count": 1,
     "metadata": {},
     "output_type": "execute_result"
    }
   ],
   "source": [
    "import pandas as pd\n",
    "import numpy as np\n",
    "import matplotlib.pyplot as plt\n",
    "import seaborn as sns\n",
    "from scipy import stats\n",
    "import ptitprince as pt\n",
    "\n",
    "data = pd.read_csv(\"C:/Users/naomi/Downloads/Invisibility_Cloak.csv\")\n",
    "data"
   ]
  },
  {
   "cell_type": "markdown",
   "id": "f704f553-a597-4711-a2fb-7c1cbd982fb1",
   "metadata": {},
   "source": [
    "We can see that the assumptions:\n",
    "1. The dependent variable (Mischief) is continuous\n",
    "2. The independent variable (cloak) is categorical, and consists of two independent groups\n",
    "3. Each participant is present to only one group\n",
    "\n",
    "Thus, the first three assumptions to conduct an independent t-test is met. "
   ]
  },
  {
   "cell_type": "markdown",
   "id": "ffae5647-da1c-4211-96bf-a9b2094facda",
   "metadata": {},
   "source": [
    "### Creating a rain cloud plot to see outliers:"
   ]
  },
  {
   "cell_type": "code",
   "execution_count": 6,
   "id": "5034f885-26aa-4a0f-9e2c-5cca8a730396",
   "metadata": {},
   "outputs": [
    {
     "data": {
      "image/png": "[encoded data removed]",
      "text/plain": [
       "<Figure size 640x480 with 1 Axes>"
      ]
     },
     "metadata": {},
     "output_type": "display_data"
    }
   ],
   "source": [
    "fig, ax = plt.subplots()\n",
    "pt.half_violinplot(x='Cloak', y='Mischief', data=data, inner=None, ax=ax, width=0.6, palette='Set2', bw=0.2)\n",
    "cloaks = [0,1]\n",
    "\n",
    "for i, cloak in enumerate(cloaks):\n",
    "    data_cloak = data[data['Cloak'] == cloak]\n",
    "\n",
    "    x = np.full(len(data_cloak), i) + np.random.uniform(-0.05, 0.05, size=len(data_cloak))\n",
    "    y = data_cloak['Mischief']\n",
    "\n",
    "    ax.scatter(x, y, alpha=0.6, color='k')\n",
    "\n",
    "boxplot_data = [\n",
    "    data[data[\"Cloak\"] == 0][\"Mischief\"].to_numpy(),\n",
    "    data[data[\"Cloak\"] == 1][\"Mischief\"].to_numpy()\n",
    "]\n",
    "\n",
    "POSITIONS = [0, 1]\n",
    "\n",
    "ax.boxplot(boxplot_data, vert=True, positions=POSITIONS, widths=0.1, patch_artist=True, boxprops=dict(facecolor='none'))\n",
    "\n",
    "ax.set_xticks([0, 1])\n",
    "ax.set_xticklabels(['Without Cloak', 'With Cloak'])\n",
    "ax.set_title('Raincloud Plot: Mischief Acts with and Without Cloak')\n",
    "ax.set_ylabel('Mischief')\n",
    "plt.show()"
   ]
  },
  {
   "cell_type": "markdown",
   "id": "f45ce704-f5a6-4aab-816b-711edeb1420d",
   "metadata": {},
   "source": [
    "From the data, there are no visible outliers and the data is visually distributed. However, we will use the Shapiro Wilk Test for each cloak type to make sure that there are no outliers\n",
    "\n",
    "We will use an alpha of 0.05 for the test."
   ]
  },
  {
   "cell_type": "markdown",
   "id": "350a6a07-59ed-426b-929d-7838a4ebd137",
   "metadata": {},
   "source": [
    "### Shapiro-Wilk Test"
   ]
  },
  {
   "cell_type": "code",
   "execution_count": 8,
   "id": "3a47707c-01b3-42b1-8e83-082905d5dd28",
   "metadata": {},
   "outputs": [
    {
     "name": "stdout",
     "output_type": "stream",
     "text": [
      "Shapiro-Wilk Test for Cloak Group 1:\n",
      "ShapiroResult(statistic=0.9726165533065796, pvalue=0.9361882209777832)\n",
      "\n",
      "Shapiro-Wilk Test for Cloak Group 2:\n",
      "ShapiroResult(statistic=0.9127635359764099, pvalue=0.23144638538360596)\n"
     ]
    }
   ],
   "source": [
    "cloak_grp = data[data['Cloak'] == 1]['Mischief']\n",
    "no_cloak_grp = data[data['Cloak'] == 0]['Mischief']\n",
    "\n",
    "shapiro_cloak = stats.shapiro(cloak_grp)\n",
    "shapiro_no_cloak = stats.shapiro(no_cloak_grp)\n",
    "\n",
    "print(f'Shapiro-Wilk Test for Cloak Group 1:\\n{shapiro_cloak}\\n')\n",
    "print(f'Shapiro-Wilk Test for Cloak Group 2:\\n{shapiro_no_cloak}')"
   ]
  },
  {
   "cell_type": "markdown",
   "id": "ca895870-8c59-466f-9718-c8b22b4ef58f",
   "metadata": {},
   "source": [
    "From both tests, we can see that both cloak types are normally distributed, with both p values are greater than alpha.\n",
    "\n",
    "Using Levene's Test for Equality of Variance to check the homogenity of variances:"
   ]
  },
  {
   "cell_type": "markdown",
   "id": "f3daa544-ec02-4121-ae20-0ccd747d5aeb",
   "metadata": {},
   "source": [
    "### Levene's Test "
   ]
  },
  {
   "cell_type": "code",
   "execution_count": 17,
   "id": "9eed5792-28d4-45d0-99fa-15f56203292f",
   "metadata": {},
   "outputs": [
    {
     "data": {
      "text/plain": [
       "LeveneResult(statistic=0.2697547683923706, pvalue=0.6086825890641905)"
      ]
     },
     "execution_count": 17,
     "metadata": {},
     "output_type": "execute_result"
    }
   ],
   "source": [
    "levene_test = stats.levene(cloak_grp, no_cloak_grp)\n",
    "levene_test"
   ]
  },
  {
   "cell_type": "markdown",
   "id": "d9d48a6d-5d13-4a05-aded-ef3204517697",
   "metadata": {},
   "source": [
    "Since the p-value of the Levene's test is greater than 0.05, we can say that the variance is homogenous across both value sets.\n",
    "\n",
    "Since all assumptions are met, we can proceed to the Independent T-test."
   ]
  },
  {
   "cell_type": "markdown",
   "id": "46208694-5efa-4a67-86ca-40d970497ea9",
   "metadata": {},
   "source": [
    "### Independent T-test"
   ]
  },
  {
   "cell_type": "code",
   "execution_count": 18,
   "id": "f9d33a69-11e2-43de-9641-16a719d1af2a",
   "metadata": {},
   "outputs": [
    {
     "data": {
      "text/plain": [
       "TtestResult(statistic=1.713459383965147, pvalue=0.10068634487481125, df=22.0)"
      ]
     },
     "execution_count": 18,
     "metadata": {},
     "output_type": "execute_result"
    }
   ],
   "source": [
    "t_test = stats.ttest_ind(cloak_grp, no_cloak_grp)\n",
    "t_test"
   ]
  },
  {
   "cell_type": "code",
   "execution_count": null,
   "id": "fa080bc2-026c-4ddd-ab67-bd777b8eb037",
   "metadata": {},
   "outputs": [],
   "source": [
    "With a p-value greater than 0.05, we can say that the independent samples t-test"
   ]
  }
 ],
 "metadata": {
  "kernelspec": {
   "display_name": "Python 3 (ipykernel)",
   "language": "python",
   "name": "python3"
  },
  "language_info": {
   "codemirror_mode": {
    "name": "ipython",
    "version": 3
   },
   "file_extension": ".py",
   "mimetype": "text/x-python",
   "name": "python",
   "nbconvert_exporter": "python",
   "pygments_lexer": "ipython3",
   "version": "3.11.7"
  }
 },
 "nbformat": 4,
 "nbformat_minor": 5
}

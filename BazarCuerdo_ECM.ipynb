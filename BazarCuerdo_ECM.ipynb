{
 "cells": [
  {
   "cell_type": "code",
   "execution_count": 74,
   "id": "6b757f8d",
   "metadata": {},
   "outputs": [
    {
     "data": {
      "text/html": [
       "<table>\n",
       "<thead>\n",
       "<tr><th style=\"text-align: right;\">  Sample No.</th><th>Combinations                               </th><th style=\"text-align: right;\">  Proportion of Marcos</th><th style=\"text-align: right;\">  Proportion of Robredo</th></tr>\n",
       "</thead>\n",
       "<tbody>\n",
       "<tr><td style=\"text-align: right;\">           1</td><td>[&#x27;Robredo&#x27;, &#x27;Marcos&#x27;, &#x27;Robredo&#x27;, &#x27;Robredo&#x27;]</td><td style=\"text-align: right;\">                  0.75</td><td style=\"text-align: right;\">                   0.25</td></tr>\n",
       "<tr><td style=\"text-align: right;\">           2</td><td>[&#x27;Marcos&#x27;, &#x27;Robredo&#x27;, &#x27;Marcos&#x27;, &#x27;Marcos&#x27;]  </td><td style=\"text-align: right;\">                  0.25</td><td style=\"text-align: right;\">                   0.75</td></tr>\n",
       "<tr><td style=\"text-align: right;\">           3</td><td>[&#x27;Marcos&#x27;, &#x27;Robredo&#x27;, &#x27;Robredo&#x27;, &#x27;Marcos&#x27;] </td><td style=\"text-align: right;\">                  0.75</td><td style=\"text-align: right;\">                   0.25</td></tr>\n",
       "<tr><td style=\"text-align: right;\">           4</td><td>[&#x27;Marcos&#x27;, &#x27;Robredo&#x27;, &#x27;Marcos&#x27;, &#x27;Marcos&#x27;]  </td><td style=\"text-align: right;\">                  0.5 </td><td style=\"text-align: right;\">                   0.5 </td></tr>\n",
       "<tr><td style=\"text-align: right;\">           5</td><td>[&#x27;Marcos&#x27;, &#x27;Marcos&#x27;, &#x27;Robredo&#x27;, &#x27;Robredo&#x27;] </td><td style=\"text-align: right;\">                  0.75</td><td style=\"text-align: right;\">                   0.25</td></tr>\n",
       "<tr><td style=\"text-align: right;\">           6</td><td>[&#x27;Robredo&#x27;, &#x27;Marcos&#x27;, &#x27;Marcos&#x27;, &#x27;Marcos&#x27;]  </td><td style=\"text-align: right;\">                  0.5 </td><td style=\"text-align: right;\">                   0.5 </td></tr>\n",
       "<tr><td style=\"text-align: right;\">           7</td><td>[&#x27;Marcos&#x27;, &#x27;Marcos&#x27;, &#x27;Marcos&#x27;, &#x27;Marcos&#x27;]   </td><td style=\"text-align: right;\">                  0.75</td><td style=\"text-align: right;\">                   0.25</td></tr>\n",
       "<tr><td style=\"text-align: right;\">           8</td><td>[&#x27;Marcos&#x27;, &#x27;Marcos&#x27;, &#x27;Marcos&#x27;, &#x27;Marcos&#x27;]   </td><td style=\"text-align: right;\">                  1   </td><td style=\"text-align: right;\">                   0   </td></tr>\n",
       "<tr><td style=\"text-align: right;\">           9</td><td>[&#x27;Robredo&#x27;, &#x27;Marcos&#x27;, &#x27;Robredo&#x27;, &#x27;Marcos&#x27;] </td><td style=\"text-align: right;\">                  1   </td><td style=\"text-align: right;\">                   0   </td></tr>\n",
       "<tr><td style=\"text-align: right;\">          10</td><td>[&#x27;Robredo&#x27;, &#x27;Marcos&#x27;, &#x27;Marcos&#x27;, &#x27;Robredo&#x27;] </td><td style=\"text-align: right;\">                  0.5 </td><td style=\"text-align: right;\">                   0.5 </td></tr>\n",
       "<tr><td style=\"text-align: right;\">          11</td><td>[&#x27;Robredo&#x27;, &#x27;Marcos&#x27;, &#x27;Marcos&#x27;, &#x27;Marcos&#x27;]  </td><td style=\"text-align: right;\">                  0.5 </td><td style=\"text-align: right;\">                   0.5 </td></tr>\n",
       "<tr><td style=\"text-align: right;\">          12</td><td>[&#x27;Robredo&#x27;, &#x27;Robredo&#x27;, &#x27;Robredo&#x27;, &#x27;Marcos&#x27;]</td><td style=\"text-align: right;\">                  0.75</td><td style=\"text-align: right;\">                   0.25</td></tr>\n",
       "<tr><td style=\"text-align: right;\">          13</td><td>[&#x27;Marcos&#x27;, &#x27;Marcos&#x27;, &#x27;Marcos&#x27;, &#x27;Marcos&#x27;]   </td><td style=\"text-align: right;\">                  0.25</td><td style=\"text-align: right;\">                   0.75</td></tr>\n",
       "<tr><td style=\"text-align: right;\">          14</td><td>[&#x27;Robredo&#x27;, &#x27;Marcos&#x27;, &#x27;Robredo&#x27;, &#x27;Marcos&#x27;] </td><td style=\"text-align: right;\">                  1   </td><td style=\"text-align: right;\">                   0   </td></tr>\n",
       "<tr><td style=\"text-align: right;\">          15</td><td>[&#x27;Robredo&#x27;, &#x27;Marcos&#x27;, &#x27;Marcos&#x27;, &#x27;Robredo&#x27;] </td><td style=\"text-align: right;\">                  0.5 </td><td style=\"text-align: right;\">                   0.5 </td></tr>\n",
       "</tbody>\n",
       "</table>"
      ],
      "text/plain": [
       "<IPython.core.display.HTML object>"
      ]
     },
     "metadata": {},
     "output_type": "display_data"
    },
    {
     "name": "stdout",
     "output_type": "stream",
     "text": [
      "\n",
      "Average Proportions Across All Samples:\n",
      "Marcos: 0.65\n",
      "Robredo: 0.35\n"
     ]
    }
   ],
   "source": [
    "import random\n",
    "from tabulate import tabulate\n",
    "from IPython.display import display, HTML\n",
    "\n",
    "population = [\"Marcos\", \"Marcos\", \"Marcos\", \"Robredo\", \"Robredo\"]\n",
    "num_samples = 15\n",
    "\n",
    "\n",
    "table = []\n",
    "\n",
    "for i in range(num_samples):\n",
    "    prop_marcos = sample.count(\"Marcos\") / 4\n",
    "    prop_robredo = sample.count(\"Robredo\") / 4\n",
    "    sample = random.choices(population, k=4)\n",
    "    table.append([i+1, sample, f\"{prop_marcos:.2f}\", f\"{prop_robredo:.2f}\"])\n",
    "    \n",
    "table_html = tabulate(table, headers=[\"Sample No.\", \"Combinations\", \"Proportion of Marcos\", \"Proportion of Robredo\"], tablefmt=\"html\")\n",
    "display(HTML(table_html))\n",
    "\n",
    "average_marcos = sum([float(row[2]) for row in table]) / num_samples\n",
    "average_robredo = sum([float(row[3]) for row in table]) / num_samples\n",
    "\n",
    "print(\"\\nAverage Proportions Across All Samples:\")\n",
    "print(f\"Marcos: {average_marcos:.2f}\")\n",
    "print(f\"Robredo: {average_robredo:.2f}\")"
   ]
  }
 ],
 "metadata": {
  "kernelspec": {
   "display_name": "Python 3 (ipykernel)",
   "language": "python",
   "name": "python3"
  },
  "language_info": {
   "codemirror_mode": {
    "name": "ipython",
    "version": 3
   },
   "file_extension": ".py",
   "mimetype": "text/x-python",
   "name": "python",
   "nbconvert_exporter": "python",
   "pygments_lexer": "ipython3",
   "version": "3.9.13"
  }
 },
 "nbformat": 4,
 "nbformat_minor": 5
}
